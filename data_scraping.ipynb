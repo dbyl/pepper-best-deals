{
 "cells": [
  {
   "cell_type": "code",
   "execution_count": 1,
   "metadata": {},
   "outputs": [],
   "source": [
    "import requests\n",
    "from bs4 import BeautifulSoup\n",
    "import re\n",
    "from datetime import datetime, timedelta\n",
    "from selenium import webdriver\n",
    "from selenium.webdriver.common.keys import Keys\n",
    "import time"
   ]
  },
  {
   "cell_type": "code",
   "execution_count": 9,
   "metadata": {},
   "outputs": [
    {
     "name": "stderr",
     "output_type": "stream",
     "text": [
      "/tmp/ipykernel_296/4062860283.py:4: DeprecationWarning: executable_path has been deprecated, please pass in a Service object\n",
      "  driver = webdriver.Chrome('./chromedriver')\n"
     ]
    },
    {
     "name": "stdout",
     "output_type": "stream",
     "text": [
      "Nabila nadmuchiwany kostium dla dorosłych - Amazon.pl\n",
      "Hamulec Magura MT5 przód i tył 99 Euro +wysyłka 13,90 Euro do Polski\n",
      "Tablet Alldocube iPlay 50 Mini 8,4” 4000mAh dual SIM ($95.99) z CN\n",
      "Dysk KINGSTON KC3000 2TB SSD PCI Express 4.0 x4 NVMe możliwe 569,05zł na raty\n",
      "Shenmue I & II Xbox VPN ARG\n",
      "SONGMICS LSD019B01 bez blatu\n",
      "Shadow Tactics: Blades of the Shogun XBOX ARG\n",
      "BANANY 1kg\n",
      "Napój energetyzujący X-ENERGY 250ml przy zakupie 4 @Dealz\n",
      "No Man’s Sky Beyond PS4\n",
      "Dysk SSD WD_BLUE SN570 1TB M.2 2280 PCIe Gen3 NVMe prędkość odczytu do 3500 MB/s\n",
      "PNY Karta graficzna GeForce RTX 4070Ti 12GB XLR8 + Diablo 4\n",
      "Latarka turystyczna Sofirn LT1S, USB-C, 27100 | $30,51\n",
      "Korki New Balance 442 V2 Academy FG Buty Piłkarskie Lanki\n",
      "Fairy 650ml różne rodzaje @biedronka 7,99pln przy zakupie dwóch\n",
      "Lady VENEZIA Serum do twarzy 30 ml\n",
      "Nawóz do traw z mchem Z MCHEM 4.5 KG 4,5 KG COMPO\n",
      "Garmin D2 DELTA SAPPHIRE GARMIN D2 DELTA SAPPHIREGARMIN D2 DELTA SAPPHIREGARMIN D2 DELTA SAPPHIRE\n",
      "Robot sprzątający ECOVACS DEEBOT X1 OMNI\n",
      "Odkurzacz piorący RIWALL\n",
      "131zł\n",
      "449zł\n",
      "403zł\n",
      "599zł\n",
      "5,69zł\n",
      "888,27zł\n",
      "5,05zł\n",
      "3,99zł\n",
      "1zł\n",
      "59,99zł\n",
      "3.799zł\n",
      "129,40zł\n",
      "279,99zł\n",
      "7,99zł\n",
      "36,11zł\n",
      "2.980zł\n",
      "3.899zł\n",
      "399zł\n"
     ]
    }
   ],
   "source": [
    "def get_all_elements_info():\n",
    "    page_url = \"https://www.pepper.pl/nowe\"\n",
    "\n",
    "    driver = webdriver.Chrome('./chromedriver') \n",
    "    driver.get(page_url) \n",
    "\n",
    "    time.sleep(3)\n",
    "    page = driver.page_source\n",
    "\n",
    "    soup = BeautifulSoup(page, 'html.parser')\n",
    "\n",
    "    list_all_items_info = soup.find_all(attrs={'class': \"cept-tt thread-link linkPlain thread-title--list js-thread-title\"})\n",
    "    list_all_items_price = soup.find_all(attrs={'class': \"thread-price text--b cept-tp size--all-l size--fromW3-xl\"})\n",
    "\n",
    "    #print(list_all_items)\n",
    "    for i in list_all_items_info:\n",
    "        print(i.get_text())\n",
    "    \n",
    "    for j in list_all_items_price:\n",
    "        print(j.get_text())\n",
    "\n",
    "    #print(soup.main.prettify())\n",
    "\n",
    "\n",
    "get_specific_item()"
   ]
  }
 ],
 "metadata": {
  "kernelspec": {
   "display_name": "Python 3",
   "language": "python",
   "name": "python3"
  },
  "language_info": {
   "codemirror_mode": {
    "name": "ipython",
    "version": 3
   },
   "file_extension": ".py",
   "mimetype": "text/x-python",
   "name": "python",
   "nbconvert_exporter": "python",
   "pygments_lexer": "ipython3",
   "version": "3.9.13"
  },
  "orig_nbformat": 4
 },
 "nbformat": 4,
 "nbformat_minor": 2
}
