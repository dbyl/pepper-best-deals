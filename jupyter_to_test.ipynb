{
 "cells": [
  {
   "cell_type": "code",
   "execution_count": 2,
   "metadata": {},
   "outputs": [
    {
     "name": "stderr",
     "output_type": "stream",
     "text": [
      "/tmp/ipykernel_1154/2980469801.py:2: RemovedInDjango50Warning: The django.utils.timezone.utc alias is deprecated. Please update your code to use datetime.timezone.utc instead.\n",
      "  from django.utils.timezone import utc\n"
     ]
    }
   ],
   "source": [
    "import logging\n",
    "from django.utils.timezone import utc\n",
    "from bs4 import BeautifulSoup\n",
    "from datetime import datetime, timedelta, date\n",
    "from selenium import webdriver\n",
    "from selenium.webdriver.common.keys import Keys\n",
    "from datetime import datetime\n",
    "import time\n",
    "from enum import Enum, IntEnum\n",
    "from collections import Counter\n",
    "import os\n",
    "import csv\n",
    "import pandas as pd\n",
    "import traceback\n",
    "import sys\n",
    "from typing import List, Union\n",
    "import logging\n",
    "import html5lib"
   ]
  },
  {
   "cell_type": "code",
   "execution_count": 7,
   "metadata": {},
   "outputs": [
    {
     "name": "stderr",
     "output_type": "stream",
     "text": [
      "WARNING:root:No more pages to scrap.\n"
     ]
    },
    {
     "name": "stdout",
     "output_type": "stream",
     "text": [
      "Ups, wygląda na to, że nie znaleziono niczego dla 'samsung s23' :(\n",
      "145\n"
     ]
    }
   ],
   "source": [
    "driver = webdriver.Chrome()\n",
    "driver.set_window_size(1400,1000)\n",
    "driver.get(\"https://www.pepper.pl/search?q=samsung%20s23&page=6\")\n",
    "time.sleep(0.7)\n",
    "page = driver.page_source\n",
    "soup = BeautifulSoup(page, \"html5lib\")\n",
    "\n",
    "\n",
    "searched_ending_string = soup.find_all('h3', {\"class\":\"size--all-l\"})[0].get_text()\n",
    "searched_articles_number = soup.find_all('span', {\"class\":\"box--all-i size--all-s vAlign--all-m\"})[0].get_text()\n",
    "\n",
    "searched_articles_number = int(searched_articles_number.strip(\"\\n\\t Okazje()\"))\n",
    "print(searched_ending_string)\n",
    "print(searched_articles_number)\n",
    "if searched_ending_string.startswith(\"Ups\") and searched_articles_number > 0:\n",
    "    logging.warning(\"No more pages to scrap.\")\n"
   ]
  }
 ],
 "metadata": {
  "kernelspec": {
   "display_name": "base",
   "language": "python",
   "name": "python3"
  },
  "language_info": {
   "codemirror_mode": {
    "name": "ipython",
    "version": 3
   },
   "file_extension": ".py",
   "mimetype": "text/x-python",
   "name": "python",
   "nbconvert_exporter": "python",
   "pygments_lexer": "ipython3",
   "version": "3.9.13"
  },
  "orig_nbformat": 4
 },
 "nbformat": 4,
 "nbformat_minor": 2
}
